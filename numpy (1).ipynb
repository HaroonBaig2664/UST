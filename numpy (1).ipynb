{
 "cells": [
  {
   "cell_type": "code",
   "execution_count": 1,
   "id": "7275bf76",
   "metadata": {},
   "outputs": [],
   "source": [
    "import numpy as np\n"
   ]
  },
  {
   "cell_type": "code",
   "execution_count": 2,
   "id": "7d8337d2",
   "metadata": {},
   "outputs": [
    {
     "data": {
      "text/plain": [
       "array([ 4,  5,  8, 66, 22, 33])"
      ]
     },
     "execution_count": 2,
     "metadata": {},
     "output_type": "execute_result"
    }
   ],
   "source": [
    "lst=[4,5,8,66,22,33]\n",
    "arry=np.array(lst)\n",
    "arry"
   ]
  },
  {
   "cell_type": "code",
   "execution_count": 3,
   "id": "f97333e4",
   "metadata": {},
   "outputs": [
    {
     "name": "stdout",
     "output_type": "stream",
     "text": [
      "<class 'numpy.ndarray'>\n"
     ]
    }
   ],
   "source": [
    "print(type(arry))"
   ]
  },
  {
   "cell_type": "code",
   "execution_count": 4,
   "id": "c129355a",
   "metadata": {},
   "outputs": [
    {
     "data": {
      "text/plain": [
       "numpy.ndarray"
      ]
     },
     "execution_count": 4,
     "metadata": {},
     "output_type": "execute_result"
    }
   ],
   "source": [
    "type(arry)"
   ]
  },
  {
   "cell_type": "code",
   "execution_count": 5,
   "id": "9266d4a4",
   "metadata": {},
   "outputs": [
    {
     "data": {
      "text/plain": [
       "dtype('int32')"
      ]
     },
     "execution_count": 5,
     "metadata": {},
     "output_type": "execute_result"
    }
   ],
   "source": [
    "arry.dtype"
   ]
  },
  {
   "cell_type": "code",
   "execution_count": 6,
   "id": "af45a978",
   "metadata": {},
   "outputs": [
    {
     "data": {
      "text/plain": [
       "1"
      ]
     },
     "execution_count": 6,
     "metadata": {},
     "output_type": "execute_result"
    }
   ],
   "source": [
    "arry.ndim\n"
   ]
  },
  {
   "cell_type": "code",
   "execution_count": 7,
   "id": "ea11d462",
   "metadata": {},
   "outputs": [
    {
     "data": {
      "text/plain": [
       "(6,)"
      ]
     },
     "execution_count": 7,
     "metadata": {},
     "output_type": "execute_result"
    }
   ],
   "source": [
    "arry.shape"
   ]
  },
  {
   "cell_type": "code",
   "execution_count": 8,
   "id": "0cba32db",
   "metadata": {},
   "outputs": [
    {
     "data": {
      "text/plain": [
       "4"
      ]
     },
     "execution_count": 8,
     "metadata": {},
     "output_type": "execute_result"
    }
   ],
   "source": [
    "arry.itemsize"
   ]
  },
  {
   "cell_type": "code",
   "execution_count": 9,
   "id": "e5af5e6b",
   "metadata": {},
   "outputs": [
    {
     "data": {
      "text/plain": [
       "24"
      ]
     },
     "execution_count": 9,
     "metadata": {},
     "output_type": "execute_result"
    }
   ],
   "source": [
    "arry.nbytes"
   ]
  },
  {
   "cell_type": "code",
   "execution_count": 11,
   "id": "064ed05d",
   "metadata": {},
   "outputs": [
    {
     "name": "stdout",
     "output_type": "stream",
     "text": [
      "[11 22 33 44]\n"
     ]
    }
   ],
   "source": [
    "a=np.array([10,20,30,40])\n",
    "b=np.array([1,2,3,4,])\n",
    "print(a+b)"
   ]
  },
  {
   "cell_type": "code",
   "execution_count": 12,
   "id": "a47aef62",
   "metadata": {},
   "outputs": [
    {
     "name": "stdout",
     "output_type": "stream",
     "text": [
      "[ 10  40  90 160]\n"
     ]
    }
   ],
   "source": [
    "print(a*b)"
   ]
  },
  {
   "cell_type": "code",
   "execution_count": 13,
   "id": "5611716d",
   "metadata": {},
   "outputs": [
    {
     "name": "stdout",
     "output_type": "stream",
     "text": [
      "[     10     400   27000 2560000]\n"
     ]
    }
   ],
   "source": [
    "print(a**b)"
   ]
  },
  {
   "cell_type": "code",
   "execution_count": 14,
   "id": "2ffd00f4",
   "metadata": {},
   "outputs": [
    {
     "data": {
      "text/plain": [
       "array([ 1,  2,  3,  4,  5,  6,  7,  8,  9, 10])"
      ]
     },
     "execution_count": 14,
     "metadata": {},
     "output_type": "execute_result"
    }
   ],
   "source": [
    "np.arange(1,11)"
   ]
  },
  {
   "cell_type": "code",
   "execution_count": 15,
   "id": "a9365755",
   "metadata": {},
   "outputs": [
    {
     "name": "stdout",
     "output_type": "stream",
     "text": [
      "[ 1  3  5  7  9 11 13 15 17 19 21 23 25 27]\n"
     ]
    }
   ],
   "source": [
    "print(np.arange(1,28,2))"
   ]
  },
  {
   "cell_type": "code",
   "execution_count": 18,
   "id": "194844c3",
   "metadata": {},
   "outputs": [
    {
     "name": "stdout",
     "output_type": "stream",
     "text": [
      "numpy in this example : 76.81705179282868faster\n",
      "0.22984838485717773 0.0029921531677246094\n"
     ]
    }
   ],
   "source": [
    "import time\n",
    "import numpy as np\n",
    "\n",
    "array_size=1000000\n",
    "def py_version():\n",
    "    t1=time.time()\n",
    "    x=range(array_size)\n",
    "    y=range(array_size)\n",
    "    z=[  x[i]+y[i] for i in range(len(x)) ]\n",
    "    return time.time()-t1\n",
    "\n",
    "def numpy_version():\n",
    "    t1=time.time()\n",
    "    x=np.arange(array_size)\n",
    "    y=np.arange(array_size)\n",
    "    z= x+y\n",
    "    return time.time()-t1\n",
    "\n",
    "t1=py_version()\n",
    "t2=numpy_version()\n",
    "\n",
    "print(\"numpy in this example : \"+str(t1/t2)+\"faster\")\n",
    "\n",
    "print(t1,t2)\n",
    "\n",
    "\n"
   ]
  },
  {
   "cell_type": "code",
   "execution_count": 19,
   "id": "42dd2d04",
   "metadata": {},
   "outputs": [
    {
     "ename": "TypeError",
     "evalue": "unsupported operand type(s) for /: 'list' and 'list'",
     "output_type": "error",
     "traceback": [
      "\u001b[1;31m---------------------------------------------------------------------------\u001b[0m",
      "\u001b[1;31mTypeError\u001b[0m                                 Traceback (most recent call last)",
      "Input \u001b[1;32mIn [19]\u001b[0m, in \u001b[0;36m<cell line: 4>\u001b[1;34m()\u001b[0m\n\u001b[0;32m      1\u001b[0m distance_list\u001b[38;5;241m=\u001b[39m[\u001b[38;5;241m10\u001b[39m,\u001b[38;5;241m25\u001b[39m,\u001b[38;5;241m6\u001b[39m,\u001b[38;5;241m30\u001b[39m]\n\u001b[0;32m      2\u001b[0m time_list\u001b[38;5;241m=\u001b[39m[\u001b[38;5;241m0.4\u001b[39m,\u001b[38;5;241m0.5\u001b[39m,\u001b[38;5;241m2\u001b[39m,\u001b[38;5;241m0.5\u001b[39m]\n\u001b[1;32m----> 4\u001b[0m sp\u001b[38;5;241m=\u001b[39m\u001b[43mdistance_list\u001b[49m\u001b[38;5;241;43m/\u001b[39;49m\u001b[43mtime_list\u001b[49m\n\u001b[0;32m      5\u001b[0m sp\n",
      "\u001b[1;31mTypeError\u001b[0m: unsupported operand type(s) for /: 'list' and 'list'"
     ]
    }
   ],
   "source": [
    "distance_list=[10,25,6,30]\n",
    "time_list=[0.4,0.5,2,0.5]\n",
    "\n",
    "sp=distance_list/time_list\n",
    "sp"
   ]
  },
  {
   "cell_type": "code",
   "execution_count": 22,
   "id": "d8d6a1c3",
   "metadata": {},
   "outputs": [
    {
     "data": {
      "text/plain": [
       "array([25., 50.,  3., 60.])"
      ]
     },
     "execution_count": 22,
     "metadata": {},
     "output_type": "execute_result"
    }
   ],
   "source": [
    "distance_arr=np.array([10,25,6,30])\n",
    "time_arr=np.array([0.4,0.5,2,0.5])\n",
    "\n",
    "sp=distance_arr/time_arr\n",
    "sp"
   ]
  },
  {
   "cell_type": "code",
   "execution_count": 26,
   "id": "1512c17c",
   "metadata": {},
   "outputs": [],
   "source": [
    "arr_1=np.array([4,5,6,9,1,3])\n",
    "\n",
    "\n"
   ]
  },
  {
   "cell_type": "code",
   "execution_count": 27,
   "id": "d9d5cb4d",
   "metadata": {},
   "outputs": [
    {
     "name": "stdout",
     "output_type": "stream",
     "text": [
      "[[ 4 11 22 33 44 55]\n",
      " [ 1  2  3  4  5  6]]\n"
     ]
    }
   ],
   "source": [
    "arr_2=np.array([[4,11,22,33,44,55],\n",
    "              [1,2,3,4,5,6]])\n",
    "\n",
    "print(arr_2)"
   ]
  },
  {
   "cell_type": "code",
   "execution_count": 28,
   "id": "626e85b4",
   "metadata": {},
   "outputs": [
    {
     "data": {
      "text/plain": [
       "(2, 6)"
      ]
     },
     "execution_count": 28,
     "metadata": {},
     "output_type": "execute_result"
    }
   ],
   "source": [
    "arr_2.shape"
   ]
  },
  {
   "cell_type": "code",
   "execution_count": 29,
   "id": "0342bb5a",
   "metadata": {},
   "outputs": [
    {
     "data": {
      "text/plain": [
       "dtype('int32')"
      ]
     },
     "execution_count": 29,
     "metadata": {},
     "output_type": "execute_result"
    }
   ],
   "source": [
    "arr_2.dtype"
   ]
  },
  {
   "cell_type": "code",
   "execution_count": 30,
   "id": "1cd70987",
   "metadata": {},
   "outputs": [
    {
     "data": {
      "text/plain": [
       "2"
      ]
     },
     "execution_count": 30,
     "metadata": {},
     "output_type": "execute_result"
    }
   ],
   "source": [
    "arr_2.ndim\n"
   ]
  },
  {
   "cell_type": "code",
   "execution_count": 33,
   "id": "1e4f239a",
   "metadata": {},
   "outputs": [
    {
     "data": {
      "text/plain": [
       "33"
      ]
     },
     "execution_count": 33,
     "metadata": {},
     "output_type": "execute_result"
    }
   ],
   "source": [
    "arr_2[0][3]"
   ]
  },
  {
   "cell_type": "code",
   "execution_count": 34,
   "id": "d22295ea",
   "metadata": {},
   "outputs": [
    {
     "data": {
      "text/plain": [
       "array([[ 4, 11, 22, 33, 44, 55],\n",
       "       [ 1,  2,  3,  4,  5,  6]])"
      ]
     },
     "execution_count": 34,
     "metadata": {},
     "output_type": "execute_result"
    }
   ],
   "source": [
    "arr_2"
   ]
  },
  {
   "cell_type": "code",
   "execution_count": 35,
   "id": "9457258f",
   "metadata": {},
   "outputs": [
    {
     "data": {
      "text/plain": [
       "5"
      ]
     },
     "execution_count": 35,
     "metadata": {},
     "output_type": "execute_result"
    }
   ],
   "source": [
    "arr_2[1][4]"
   ]
  },
  {
   "cell_type": "code",
   "execution_count": 36,
   "id": "f02d1aa4",
   "metadata": {},
   "outputs": [
    {
     "data": {
      "text/plain": [
       "5"
      ]
     },
     "execution_count": 36,
     "metadata": {},
     "output_type": "execute_result"
    }
   ],
   "source": [
    "arr_2[-1][-2]"
   ]
  },
  {
   "cell_type": "code",
   "execution_count": 40,
   "id": "befd00fd",
   "metadata": {},
   "outputs": [
    {
     "data": {
      "text/plain": [
       "array([[[ 1,  2,  3,  4,  5,  6],\n",
       "        [10, 20, 30, 40, 50, 60],\n",
       "        [11, 22, 33, 44, 55, 66]],\n",
       "\n",
       "       [[ 1,  2,  3,  4,  5,  6],\n",
       "        [10, 20, 30, 40, 50, 60],\n",
       "        [11, 22, 33, 44, 55, 66]],\n",
       "\n",
       "       [[ 1,  2,  3,  4,  5,  6],\n",
       "        [10, 20, 30, 40, 50, 60],\n",
       "        [11, 22, 33, 44, 55, 66]]])"
      ]
     },
     "execution_count": 40,
     "metadata": {},
     "output_type": "execute_result"
    }
   ],
   "source": [
    "arr_3=np.array([[[1,2,3,4,5,6],\n",
    "               [10,20,30,40,50,60],\n",
    "               [11,22,33,44,55,66]],\n",
    "               \n",
    "               [[1,2,3,4,5,6],\n",
    "               [10,20,30,40,50,60],\n",
    "               [11,22,33,44,55,66]],\n",
    "               \n",
    "               [[1,2,3,4,5,6],\n",
    "               [10,20,30,40,50,60],\n",
    "               [11,22,33,44,55,66]]])\n",
    "              \n",
    "              \n",
    "arr_3"
   ]
  },
  {
   "cell_type": "code",
   "execution_count": 41,
   "id": "c5bed601",
   "metadata": {},
   "outputs": [
    {
     "data": {
      "text/plain": [
       "40"
      ]
     },
     "execution_count": 41,
     "metadata": {},
     "output_type": "execute_result"
    }
   ],
   "source": [
    "arr_3[1,1,3]"
   ]
  },
  {
   "cell_type": "code",
   "execution_count": 42,
   "id": "7f82c0a6",
   "metadata": {},
   "outputs": [
    {
     "data": {
      "text/plain": [
       "5"
      ]
     },
     "execution_count": 42,
     "metadata": {},
     "output_type": "execute_result"
    }
   ],
   "source": [
    "arr_3[2][0][4]"
   ]
  },
  {
   "cell_type": "code",
   "execution_count": 43,
   "id": "dfd1ddd3",
   "metadata": {},
   "outputs": [
    {
     "data": {
      "text/plain": [
       "[11, 22, 22.22, 5, 6]"
      ]
     },
     "execution_count": 43,
     "metadata": {},
     "output_type": "execute_result"
    }
   ],
   "source": [
    "arr_4=[11,22,4,5,6]\n",
    "arr_4[2]=22.22\n",
    "arr_4"
   ]
  },
  {
   "cell_type": "code",
   "execution_count": 44,
   "id": "191c1480",
   "metadata": {},
   "outputs": [
    {
     "ename": "AttributeError",
     "evalue": "'list' object has no attribute 'astype'",
     "output_type": "error",
     "traceback": [
      "\u001b[1;31m---------------------------------------------------------------------------\u001b[0m",
      "\u001b[1;31mAttributeError\u001b[0m                            Traceback (most recent call last)",
      "Input \u001b[1;32mIn [44]\u001b[0m, in \u001b[0;36m<cell line: 1>\u001b[1;34m()\u001b[0m\n\u001b[1;32m----> 1\u001b[0m arr_5\u001b[38;5;241m=\u001b[39m\u001b[43marr_4\u001b[49m\u001b[38;5;241;43m.\u001b[39;49m\u001b[43mastype\u001b[49m(\u001b[38;5;124m'\u001b[39m\u001b[38;5;124mfloat32\u001b[39m\u001b[38;5;124m'\u001b[39m)\n\u001b[0;32m      2\u001b[0m arr_5[\u001b[38;5;241m2\u001b[39m]\u001b[38;5;241m=\u001b[39m\u001b[38;5;241m15.22\u001b[39m\n\u001b[0;32m      3\u001b[0m arr_5\n",
      "\u001b[1;31mAttributeError\u001b[0m: 'list' object has no attribute 'astype'"
     ]
    }
   ],
   "source": [
    "arr_5=arr_4.astype('float32')\n",
    "arr_5[2]=15.22\n",
    "arr_5"
   ]
  },
  {
   "cell_type": "code",
   "execution_count": 45,
   "id": "9a0dd656",
   "metadata": {},
   "outputs": [
    {
     "ename": "AttributeError",
     "evalue": "'list' object has no attribute 'astype'",
     "output_type": "error",
     "traceback": [
      "\u001b[1;31m---------------------------------------------------------------------------\u001b[0m",
      "\u001b[1;31mAttributeError\u001b[0m                            Traceback (most recent call last)",
      "Input \u001b[1;32mIn [45]\u001b[0m, in \u001b[0;36m<cell line: 1>\u001b[1;34m()\u001b[0m\n\u001b[1;32m----> 1\u001b[0m arr_5\u001b[38;5;241m=\u001b[39m\u001b[43marr_4\u001b[49m\u001b[38;5;241;43m.\u001b[39;49m\u001b[43mastype\u001b[49m(\u001b[38;5;124m'\u001b[39m\u001b[38;5;124mfloat32\u001b[39m\u001b[38;5;124m'\u001b[39m)\n",
      "\u001b[1;31mAttributeError\u001b[0m: 'list' object has no attribute 'astype'"
     ]
    }
   ],
   "source": [
    "arr_5=arr_4.astype('float32')"
   ]
  },
  {
   "cell_type": "code",
   "execution_count": 46,
   "id": "473a4d5e",
   "metadata": {},
   "outputs": [
    {
     "data": {
      "text/plain": [
       "array([ 4, 14,  6,  7,  8])"
      ]
     },
     "execution_count": 46,
     "metadata": {},
     "output_type": "execute_result"
    }
   ],
   "source": [
    "arr_4=np.array([4,5,6,7,8])\n",
    "arr_4[1]=14.23\n",
    "arr_4"
   ]
  },
  {
   "cell_type": "code",
   "execution_count": 47,
   "id": "ed64f73d",
   "metadata": {},
   "outputs": [
    {
     "data": {
      "text/plain": [
       "dtype('float32')"
      ]
     },
     "execution_count": 47,
     "metadata": {},
     "output_type": "execute_result"
    }
   ],
   "source": [
    "arr_5=arr_4.astype('float32')\n",
    "arr_5.dtype"
   ]
  },
  {
   "cell_type": "code",
   "execution_count": 48,
   "id": "aa2b85ed",
   "metadata": {},
   "outputs": [
    {
     "data": {
      "text/plain": [
       "array([ 4.  , 14.  ,  6.  , 55.28,  8.  ], dtype=float32)"
      ]
     },
     "execution_count": 48,
     "metadata": {},
     "output_type": "execute_result"
    }
   ],
   "source": [
    "arr_5[3]=55.28\n",
    "arr_5\n"
   ]
  },
  {
   "cell_type": "code",
   "execution_count": null,
   "id": "80f91942",
   "metadata": {},
   "outputs": [],
   "source": []
  }
 ],
 "metadata": {
  "kernelspec": {
   "display_name": "Python 3 (ipykernel)",
   "language": "python",
   "name": "python3"
  },
  "language_info": {
   "codemirror_mode": {
    "name": "ipython",
    "version": 3
   },
   "file_extension": ".py",
   "mimetype": "text/x-python",
   "name": "python",
   "nbconvert_exporter": "python",
   "pygments_lexer": "ipython3",
   "version": "3.9.12"
  }
 },
 "nbformat": 4,
 "nbformat_minor": 5
}
